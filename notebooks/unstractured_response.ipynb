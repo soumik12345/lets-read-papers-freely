{
 "cells": [
  {
   "cell_type": "code",
   "id": "initial_id",
   "metadata": {
    "collapsed": true,
    "ExecuteTime": {
     "end_time": "2024-08-22T12:34:58.860819Z",
     "start_time": "2024-08-22T12:34:56.929342Z"
    }
   },
   "source": [
    "import os\n",
    "from getpass import getpass\n",
    "\n",
    "import rich\n",
    "import weave\n",
    "from research_paper_parser import ResearchPaperReaderModel, ResearchPaperReadingMode"
   ],
   "outputs": [],
   "execution_count": 1
  },
  {
   "metadata": {
    "ExecuteTime": {
     "end_time": "2024-08-22T12:34:58.865284Z",
     "start_time": "2024-08-22T12:34:58.862280Z"
    }
   },
   "cell_type": "code",
   "source": "weave.init(project_name=\"research_paper_parser\")",
   "id": "284f4e72dcf75369",
   "outputs": [],
   "execution_count": 2
  },
  {
   "metadata": {
    "ExecuteTime": {
     "end_time": "2024-08-22T12:34:58.869112Z",
     "start_time": "2024-08-22T12:34:58.866760Z"
    }
   },
   "cell_type": "code",
   "source": [
    "api_key = getpass(\"Enter you OpenAI API key: \")\n",
    "os.environ[\"OPENAI_API_KEY\"] = api_key"
   ],
   "id": "20842326aef752bb",
   "outputs": [],
   "execution_count": 3
  },
  {
   "metadata": {
    "ExecuteTime": {
     "end_time": "2024-08-22T12:34:58.873012Z",
     "start_time": "2024-08-22T12:34:58.870358Z"
    }
   },
   "cell_type": "code",
   "source": "dataset = weave.ref(\"cv-papers:v1\").get()",
   "id": "34829fba023eadbd",
   "outputs": [],
   "execution_count": 4
  },
  {
   "metadata": {
    "ExecuteTime": {
     "end_time": "2024-08-22T12:34:58.878181Z",
     "start_time": "2024-08-22T12:34:58.875850Z"
    }
   },
   "cell_type": "code",
   "source": "model = ResearchPaperReaderModel(openai_model=\"gpt-4o\")",
   "id": "526120f8566d7cf8",
   "outputs": [],
   "execution_count": 5
  },
  {
   "metadata": {
    "ExecuteTime": {
     "end_time": "2024-08-22T12:34:58.881258Z",
     "start_time": "2024-08-22T12:34:58.879182Z"
    }
   },
   "cell_type": "code",
   "source": [
    "unstructured_output = model.predict(\n",
    "    url_pdf=dataset.rows[0][\"url_pdf\"],\n",
    "    reading_mode=ResearchPaperReadingMode.UNSTRUCTURED_RESPONSE,\n",
    ")\n",
    "\n",
    "rich.print(unstructured_output)"
   ],
   "id": "fa2e293a38cb0cf",
   "outputs": [],
   "execution_count": 6
  },
  {
   "metadata": {
    "ExecuteTime": {
     "end_time": "2024-08-22T12:34:59.037691Z",
     "start_time": "2024-08-22T12:34:59.034338Z"
    }
   },
   "cell_type": "code",
   "source": [
    "direct_structured_output = model.predict(\n",
    "    url_pdf=dataset.rows[0][\"url_pdf\"],\n",
    "    reading_mode=ResearchPaperReadingMode.DIRECT_STRUCTURED_RESPONSE,\n",
    ")\n",
    "\n",
    "rich.print(direct_structured_output)"
   ],
   "id": "a227dca24fac40f3",
   "outputs": [],
   "execution_count": 7
  },
  {
   "metadata": {
    "ExecuteTime": {
     "end_time": "2024-08-22T12:34:59.956137Z",
     "start_time": "2024-08-22T12:34:59.952461Z"
    }
   },
   "cell_type": "code",
   "source": [
    "nl2structured_output = model.predict(\n",
    "    url_pdf=dataset.rows[0][\"url_pdf\"],\n",
    "    reading_mode=ResearchPaperReadingMode.NL2STRUCTURED_RESPONSE,\n",
    ")\n",
    "\n",
    "rich.print(nl2structured_output)"
   ],
   "id": "f0a8838c88f0e99b",
   "outputs": [],
   "execution_count": 8
  }
 ],
 "metadata": {
  "kernelspec": {
   "display_name": "Python 3",
   "language": "python",
   "name": "python3"
  },
  "language_info": {
   "codemirror_mode": {
    "name": "ipython",
    "version": 2
   },
   "file_extension": ".py",
   "mimetype": "text/x-python",
   "name": "python",
   "nbconvert_exporter": "python",
   "pygments_lexer": "ipython2",
   "version": "2.7.6"
  }
 },
 "nbformat": 4,
 "nbformat_minor": 5
}
